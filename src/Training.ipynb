{
 "cells": [
  {
   "cell_type": "markdown",
   "id": "7348b7e2",
   "metadata": {},
   "source": [
    "Importing dependencies"
   ]
  },
  {
   "cell_type": "code",
   "execution_count": 3,
   "id": "2b376755",
   "metadata": {},
   "outputs": [],
   "source": [
    "import pandas as pd\n",
    "import numpy as np\n",
    "import pickle\n",
    "import matplotlib.pyplot as plt\n",
    "import seaborn as sns\n",
    "from pathlib import Path\n",
    "%matplotlib inline"
   ]
  },
  {
   "cell_type": "markdown",
   "id": "30589949",
   "metadata": {},
   "source": [
    "Loading the dataframes"
   ]
  },
  {
   "cell_type": "code",
   "execution_count": 4,
   "id": "7d1be474",
   "metadata": {},
   "outputs": [],
   "source": [
    "df_train = pd.read_pickle('../data/processed/df_train.pkl')\n",
    "df_test = pd.read_pickle('../data/processed/df_test.pkl')\n",
    "df_val = pd.read_pickle('../data/processed/df_val.pkl')\n",
    "\n",
    "save_path = Path('../data/processed/')\n",
    "with open(save_path / 'y_train.pkl' ,'rb') as f:\n",
    "    y_train = pickle.load(f)\n",
    "with open(save_path / 'y_test.pkl' ,'rb') as f:\n",
    "    y_test = pickle.load(f)\n",
    "with open(save_path / 'y_val.pkl','rb') as f:\n",
    "    y_val = pickle.load(f)"
   ]
  },
  {
   "cell_type": "markdown",
   "id": "958f536e",
   "metadata": {},
   "source": [
    "# Linear Regression"
   ]
  },
  {
   "cell_type": "markdown",
   "id": "1201049b",
   "metadata": {},
   "source": [
    "We will implement the linear regression using the normal equation.\n",
    "* for a given feature vector xi = (xi1,xi2,...,xin) where n = number of features and m = number of records\n",
    "* y_pred = f(xi) = f(xi1,xi2,..,xin) = w0 + sum(wj*xij){j:1->n}\n",
    "* w = (w1,..,wn) and xi = (xi1,...,xin)\n",
    "* To make it easier, we can add the bias term w0 to w and xi0=1 to x\n",
    "* Now, w = (w0,...,wn) and xi = (1,..,xin)\n",
    "* We use the vectorized form to compute it\n",
    "* f(xi) = xi.T.dot(w)\n",
    "* To find the parameters w, we use the normal equation "
   ]
  },
  {
   "cell_type": "code",
   "execution_count": 5,
   "id": "5eee1bb4",
   "metadata": {},
   "outputs": [],
   "source": [
    "def train_linear_regression(X,y):\n",
    "    ones = np.ones(X.shape[0])\n",
    "    X = np.column_stack([ones,X])\n",
    "    \n",
    "    XTX = X.T.dot(X)\n",
    "    XTX_inv = np.linalg.inv(XTX)\n",
    "    w = XTX_inv.dot(X.T).dot(y)\n",
    "    \n",
    "    return w[0], w[1:]\n",
    "    \n",
    "    "
   ]
  },
  {
   "cell_type": "markdown",
   "id": "fd98b55a",
   "metadata": {},
   "source": [
    "Now to predict the price, we can opt for a Baseline solution; each time we add a set of features and define a metric to see how our model performs."
   ]
  },
  {
   "cell_type": "code",
   "execution_count": 6,
   "id": "ebbe5e84",
   "metadata": {},
   "outputs": [],
   "source": [
    "base = ['engine_hp', 'engine_cylinders', 'highway_mpg', 'city_mpg', 'popularity']"
   ]
  },
  {
   "cell_type": "markdown",
   "id": "9cc466f2",
   "metadata": {},
   "source": [
    "Right now we have a dataframe and not a matrix, also we need to deal with missing values (we can simply ignore features that have missing values)"
   ]
  },
  {
   "cell_type": "code",
   "execution_count": null,
   "id": "54544f8c",
   "metadata": {},
   "outputs": [],
   "source": [
    "def prepare_X(df):\n",
    "    df_num = df[base]\n",
    "    df_num = df_num.fillna(0)\n",
    "    X = df_num.values # transforming a dataframe to a matrix\n",
    "    return X"
   ]
  },
  {
   "cell_type": "code",
   "execution_count": 8,
   "id": "39bfaaba",
   "metadata": {},
   "outputs": [],
   "source": [
    "X_train = prepare_X(df_train)\n",
    "w_0, w = train_linear_regression(X_train,y_train)"
   ]
  },
  {
   "cell_type": "markdown",
   "id": "3f7eeb5e",
   "metadata": {},
   "source": [
    "Now we can simply calculate the prediction using the vectorized form"
   ]
  },
  {
   "cell_type": "code",
   "execution_count": 9,
   "id": "30d42208",
   "metadata": {},
   "outputs": [],
   "source": [
    "y_pred = w_0 + X_train.dot(w)"
   ]
  },
  {
   "cell_type": "code",
   "execution_count": 37,
   "id": "4360686f",
   "metadata": {},
   "outputs": [
    {
     "data": {
      "text/plain": [
       "Text(0.5, 1.0, 'Predictions vs actual distribution')"
      ]
     },
     "execution_count": 37,
     "metadata": {},
     "output_type": "execute_result"
    },
    {
     "data": {
      "image/png": "[encoded data removed]",
      "text/plain": [
       "<Figure size 600x400 with 1 Axes>"
      ]
     },
     "metadata": {},
     "output_type": "display_data"
    }
   ],
   "source": [
    "plt.figure(figsize=(6, 4))\n",
    "\n",
    "sns.histplot(y_train, label='target', color='#222222', alpha=0.6, bins=40)\n",
    "sns.histplot(y_pred, label='prediction', color='#aaaaaa', alpha=0.8, bins=40)\n",
    "\n",
    "plt.legend()\n",
    "\n",
    "plt.ylabel('Frequency')\n",
    "plt.xlabel('Log(Price + 1)')\n",
    "plt.savefig('../plots/predictions_vs_actual_distribution(5 features)')\n",
    "plt.title('Predictions vs actual distribution')"
   ]
  },
  {
   "cell_type": "markdown",
   "id": "b8dadaf6",
   "metadata": {},
   "source": [
    "Visually we can see that our predictions are far from the real values (Note we only used 5 features)"
   ]
  },
  {
   "cell_type": "markdown",
   "id": "e59dc2ea",
   "metadata": {},
   "source": [
    "Evaluating model quality using RMSE (root mean squared error)"
   ]
  },
  {
   "cell_type": "code",
   "execution_count": 11,
   "id": "0a4703c0",
   "metadata": {},
   "outputs": [],
   "source": [
    "def rmse(y,y_pred):\n",
    "    error = y_pred - y\n",
    "    mse = (error**2).mean()\n",
    "    return np.sqrt(mse)"
   ]
  },
  {
   "cell_type": "code",
   "execution_count": 12,
   "id": "43be8878",
   "metadata": {},
   "outputs": [
    {
     "data": {
      "text/plain": [
       "0.7554192603920132"
      ]
     },
     "execution_count": 12,
     "metadata": {},
     "output_type": "execute_result"
    }
   ],
   "source": [
    "rmse(y_train,y_pred)"
   ]
  },
  {
   "cell_type": "markdown",
   "id": "9a6ceb39",
   "metadata": {},
   "source": [
    "We can also use it on the validation set"
   ]
  },
  {
   "cell_type": "code",
   "execution_count": 13,
   "id": "1b0fad10",
   "metadata": {},
   "outputs": [],
   "source": [
    "X_val = prepare_X(df_val)\n",
    "y_pred = w_0 + X_val.dot(w)"
   ]
  },
  {
   "cell_type": "code",
   "execution_count": 14,
   "id": "f11d1545",
   "metadata": {},
   "outputs": [
    {
     "data": {
      "text/plain": [
       "0.7616530991301603"
      ]
     },
     "execution_count": 14,
     "metadata": {},
     "output_type": "execute_result"
    }
   ],
   "source": [
    "rmse(y_val,y_pred)"
   ]
  },
  {
   "cell_type": "markdown",
   "id": "b574a1e9",
   "metadata": {},
   "source": [
    "Feature Engineering"
   ]
  },
  {
   "cell_type": "markdown",
   "id": "d86a1815",
   "metadata": {},
   "source": [
    "We will add the age feature. (Note that we compare it to 2017 because the dataset was created that year)"
   ]
  },
  {
   "cell_type": "code",
   "execution_count": 15,
   "id": "724aaad8",
   "metadata": {},
   "outputs": [],
   "source": [
    "def prepare_X(df):\n",
    "    df = df.copy()\n",
    "    features = base.copy()\n",
    "\n",
    "    df['age'] = 2017 - df.year\n",
    "    features.append('age')\n",
    "\n",
    "    df_num = df[features]\n",
    "    df_num = df_num.fillna(0)\n",
    "    X = df_num.values\n",
    "    return X"
   ]
  },
  {
   "cell_type": "code",
   "execution_count": 16,
   "id": "464e70c2",
   "metadata": {},
   "outputs": [
    {
     "name": "stdout",
     "output_type": "stream",
     "text": [
      "train 0.5175055465840046\n",
      "validation 0.5172055461058318\n"
     ]
    }
   ],
   "source": [
    "X_train = prepare_X(df_train)\n",
    "w_0, w = train_linear_regression(X_train, y_train)\n",
    "\n",
    "y_pred = w_0 + X_train.dot(w)\n",
    "print('train', rmse(y_train, y_pred))\n",
    "\n",
    "X_val = prepare_X(df_val)\n",
    "y_pred = w_0 + X_val.dot(w)\n",
    "print('validation', rmse(y_val, y_pred))"
   ]
  },
  {
   "cell_type": "markdown",
   "id": "7d240f36",
   "metadata": {},
   "source": [
    "Conclusion: after adding this feature, the model performed better. We can also check it visually."
   ]
  },
  {
   "cell_type": "code",
   "execution_count": 38,
   "id": "17aefd30",
   "metadata": {},
   "outputs": [
    {
     "data": {
      "image/png": "[encoded data removed]",
      "text/plain": [
       "<Figure size 600x400 with 1 Axes>"
      ]
     },
     "metadata": {},
     "output_type": "display_data"
    }
   ],
   "source": [
    "plt.figure(figsize=(6, 4))\n",
    "\n",
    "\n",
    "sns.histplot(y_val, label='target', color='#222222', alpha=0.6, bins=40)\n",
    "sns.histplot(y_pred, label='prediction', color='#aaaaaa', alpha=0.8, bins=40)\n",
    "\n",
    "plt.legend()\n",
    "\n",
    "plt.ylabel('Frequency')\n",
    "plt.xlabel('Log(Price + 1)')\n",
    "plt.savefig('../plots/predictions_vs_actual_distribution(more features).png')\n",
    "plt.title('Predictions vs actual distribution')\n",
    "\n",
    "plt.show()"
   ]
  },
  {
   "cell_type": "markdown",
   "id": "716dd830",
   "metadata": {},
   "source": [
    "Handling Categorical variables\n",
    "* We will now look at how other features might affect our predictions (number of doors and the make of the car)\n",
    "* Note that we are implementing One-hot encoding for each categorical feature"
   ]
  },
  {
   "cell_type": "code",
   "execution_count": 18,
   "id": "6d4e418f",
   "metadata": {},
   "outputs": [],
   "source": [
    "def prepare_X(df):\n",
    "    df = df.copy()\n",
    "    features = base.copy()\n",
    "\n",
    "    df['age'] = 2017 - df.year\n",
    "    features.append('age')\n",
    "\n",
    "    for v in [2, 3, 4]:\n",
    "        feature = 'num_doors_%s' % v\n",
    "        df[feature] = (df['number_of_doors'] == v).astype(int)\n",
    "        features.append(feature)\n",
    "\n",
    "    for v in ['chevrolet', 'ford', 'volkswagen', 'toyota', 'dodge']:\n",
    "        feature = 'is_make_%s' % v\n",
    "        df[feature] = (df['make'] == v).astype(int)\n",
    "        features.append(feature)\n",
    "\n",
    "    df_num = df[features]\n",
    "    df_num = df_num.fillna(0)\n",
    "    X = df_num.values\n",
    "    return X"
   ]
  },
  {
   "cell_type": "code",
   "execution_count": 19,
   "id": "f465b0c2",
   "metadata": {},
   "outputs": [
    {
     "name": "stdout",
     "output_type": "stream",
     "text": [
      "train: 0.5058876515487503\n",
      "validation: 0.5076038849555264\n"
     ]
    }
   ],
   "source": [
    "X_train = prepare_X(df_train)\n",
    "w_0, w = train_linear_regression(X_train, y_train)\n",
    "\n",
    "y_pred = w_0 + X_train.dot(w)\n",
    "print('train:', rmse(y_train, y_pred))\n",
    "\n",
    "X_val = prepare_X(df_val)\n",
    "y_pred = w_0 + X_val.dot(w)\n",
    "print('validation:', rmse(y_val, y_pred))"
   ]
  },
  {
   "cell_type": "markdown",
   "id": "1a7f9b2a",
   "metadata": {},
   "source": [
    "Conclusion: we managed to improve the RMSE score further"
   ]
  },
  {
   "cell_type": "markdown",
   "id": "b534323d",
   "metadata": {},
   "source": [
    "Let's now add other features and see the results."
   ]
  },
  {
   "cell_type": "code",
   "execution_count": 20,
   "id": "d84107ab",
   "metadata": {},
   "outputs": [],
   "source": [
    "def prepare_X(df):\n",
    "    df = df.copy()\n",
    "    features = base.copy()\n",
    "\n",
    "    df['age'] = 2017 - df.year\n",
    "    features.append('age')\n",
    "    \n",
    "    for v in [2, 3, 4]:\n",
    "        feature = 'num_doors_%s' % v\n",
    "        df[feature] = (df['number_of_doors'] == v).astype(int)\n",
    "        features.append(feature)\n",
    "\n",
    "    for v in ['chevrolet', 'ford', 'volkswagen', 'toyota', 'dodge']:\n",
    "        feature = 'is_make_%s' % v\n",
    "        df[feature] = (df['make'] == v).astype(int)\n",
    "        features.append(feature)\n",
    "\n",
    "    for v in ['regular_unleaded', 'premium_unleaded_(required)', \n",
    "              'premium_unleaded_(recommended)', 'flex-fuel_(unleaded/e85)']:\n",
    "        feature = 'is_type_%s' % v\n",
    "        df[feature] = (df['engine_fuel_type'] == v).astype(int)\n",
    "        features.append(feature)\n",
    "\n",
    "    for v in ['automatic', 'manual', 'automated_manual']:\n",
    "        feature = 'is_transmission_%s' % v\n",
    "        df[feature] = (df['transmission_type'] == v).astype(int)\n",
    "        features.append(feature)\n",
    "\n",
    "    for v in ['front_wheel_drive', 'rear_wheel_drive', 'all_wheel_drive', 'four_wheel_drive']:\n",
    "        feature = 'is_driven_wheens_%s' % v\n",
    "        df[feature] = (df['driven_wheels'] == v).astype(int)\n",
    "        features.append(feature)\n",
    "\n",
    "    for v in ['crossover', 'flex_fuel', 'luxury', 'luxury,performance', 'hatchback']:\n",
    "        feature = 'is_mc_%s' % v\n",
    "        df[feature] = (df['market_category'] == v).astype(int)\n",
    "        features.append(feature)\n",
    "\n",
    "    for v in ['compact', 'midsize', 'large']:\n",
    "        feature = 'is_size_%s' % v\n",
    "        df[feature] = (df['vehicle_size'] == v).astype(int)\n",
    "        features.append(feature)\n",
    "\n",
    "    for v in ['sedan', '4dr_suv', 'coupe', 'convertible', '4dr_hatchback']:\n",
    "        feature = 'is_style_%s' % v\n",
    "        df[feature] = (df['vehicle_style'] == v).astype(int)\n",
    "        features.append(feature)\n",
    "\n",
    "    df_num = df[features]\n",
    "    df_num = df_num.fillna(0)\n",
    "    X = df_num.values\n",
    "    return X"
   ]
  },
  {
   "cell_type": "code",
   "execution_count": 21,
   "id": "6f9979aa",
   "metadata": {},
   "outputs": [
    {
     "name": "stdout",
     "output_type": "stream",
     "text": [
      "train: 27.179423497531644\n",
      "validation: 18.474245638356216\n"
     ]
    }
   ],
   "source": [
    "\n",
    "X_train = prepare_X(df_train)\n",
    "w_0, w = train_linear_regression(X_train, y_train)\n",
    "\n",
    "y_pred = w_0 + X_train.dot(w)\n",
    "print('train:', rmse(y_train, y_pred))\n",
    "\n",
    "X_val = prepare_X(df_val)\n",
    "y_pred = w_0 + X_val.dot(w)\n",
    "print('validation:', rmse(y_val, y_pred))"
   ]
  },
  {
   "cell_type": "markdown",
   "id": "a2135d62",
   "metadata": {},
   "source": [
    "we can see that adding other features made the score a lot worse. This is due to numerical instability.The term (X.T.dot(X)) becomes non invertible in the normal equation, which can cause the model parameters w to grow very large.\n",
    "* This numerical instability can be cause by inter-dependent features\n",
    "* This can be corrected using Regularization"
   ]
  },
  {
   "cell_type": "markdown",
   "id": "1a5b9553",
   "metadata": {},
   "source": [
    "## Regularization"
   ]
  },
  {
   "cell_type": "code",
   "execution_count": 24,
   "id": "50d98c37",
   "metadata": {},
   "outputs": [],
   "source": [
    "def train_linear_regression_reg(X, y, r=0.0):\n",
    "    ones = np.ones(X.shape[0])\n",
    "    X = np.column_stack([ones, X])\n",
    "\n",
    "    XTX = X.T.dot(X)\n",
    "    reg = r * np.eye(XTX.shape[0])\n",
    "    XTX = XTX + reg\n",
    "\n",
    "    XTX_inv = np.linalg.inv(XTX)\n",
    "    w = XTX_inv.dot(X.T).dot(y)\n",
    "    \n",
    "    return w[0], w[1:]"
   ]
  },
  {
   "cell_type": "markdown",
   "id": "3cb721bc",
   "metadata": {},
   "source": [
    "Here we added some values(r*I; I is the identity matrix) on the diagonal of the matrix (X.T.dotX) to make sure it becomes invertible. The values are controlled by a constant r which we will find the best value by using grid search."
   ]
  },
  {
   "cell_type": "code",
   "execution_count": 25,
   "id": "faddd2ce",
   "metadata": {},
   "outputs": [],
   "source": [
    "X_train = prepare_X(df_train)"
   ]
  },
  {
   "cell_type": "code",
   "execution_count": 26,
   "id": "681cc39b",
   "metadata": {},
   "outputs": [
    {
     "name": "stdout",
     "output_type": "stream",
     "text": [
      "    0, -6449461550616219.00, -1.46, 6449461550617254.00\n",
      "0.001, 7.20, -0.10, 1.81\n",
      " 0.01, 7.18, -0.10, 1.81\n",
      "  0.1, 7.05, -0.10, 1.78\n",
      "    1, 6.22, -0.10, 1.56\n",
      "   10, 4.39, -0.09, 1.08\n"
     ]
    }
   ],
   "source": [
    "for r in [0, 0.001, 0.01, 0.1, 1, 10]:\n",
    "    w_0, w = train_linear_regression_reg(X_train, y_train, r=r)\n",
    "    print('%5s, %.2f, %.2f, %.2f' % (r, w_0, w[13], w[21]))"
   ]
  },
  {
   "cell_type": "markdown",
   "id": "eda06a77",
   "metadata": {},
   "source": [
    "Here we can conclude That r = 0.01 is the best param to stop the parameters w from growing large."
   ]
  },
  {
   "cell_type": "code",
   "execution_count": 27,
   "id": "9db0b95f",
   "metadata": {},
   "outputs": [
    {
     "name": "stdout",
     "output_type": "stream",
     "text": [
      "train 0.46431248945534853\n",
      "val 0.46023949634107747\n"
     ]
    }
   ],
   "source": [
    "X_train = prepare_X(df_train)\n",
    "w_0, w = train_linear_regression_reg(X_train, y_train, r=0.01)\n",
    "\n",
    "y_pred = w_0 + X_train.dot(w)\n",
    "print('train', rmse(y_train, y_pred))\n",
    "\n",
    "X_val = prepare_X(df_val)\n",
    "y_pred = w_0 + X_val.dot(w)\n",
    "print('val', rmse(y_val, y_pred))"
   ]
  },
  {
   "cell_type": "markdown",
   "id": "0bcd1114",
   "metadata": {},
   "source": [
    "We can also use grid search on r to select the best value that minimizes RMSE score"
   ]
  },
  {
   "cell_type": "code",
   "execution_count": 30,
   "id": "c81ebb00",
   "metadata": {},
   "outputs": [
    {
     "name": "stdout",
     "output_type": "stream",
     "text": [
      " 1e-06 0.46022494492363214\n",
      "0.0001 0.46022548796556073\n",
      " 0.001 0.4602267631468646\n",
      "  0.01 0.46023949634107747\n",
      "   0.1 0.46037006958243754\n",
      "     1 0.4618298042652747\n",
      "     5 0.46840796275301805\n",
      "    10 0.4757248100697067\n"
     ]
    }
   ],
   "source": [
    "X_train = prepare_X(df_train)\n",
    "X_val = prepare_X(df_val)\n",
    "\n",
    "for r in [0.000001, 0.0001, 0.001, 0.01, 0.1, 1, 5, 10]:\n",
    "    w_0, w = train_linear_regression_reg(X_train, y_train, r=r)\n",
    "    y_pred = w_0 + X_val.dot(w)\n",
    "    print('%6s' %r, rmse(y_val, y_pred))"
   ]
  },
  {
   "cell_type": "code",
   "execution_count": 31,
   "id": "f2796145",
   "metadata": {},
   "outputs": [
    {
     "name": "stdout",
     "output_type": "stream",
     "text": [
      "validation: 0.46023949634107747\n",
      "test: 0.4571813679582453\n"
     ]
    }
   ],
   "source": [
    "X_train = prepare_X(df_train)\n",
    "w_0, w = train_linear_regression_reg(X_train, y_train, r=0.01)\n",
    "\n",
    "X_val = prepare_X(df_val)\n",
    "y_pred = w_0 + X_val.dot(w)\n",
    "print('validation:', rmse(y_val, y_pred))\n",
    "\n",
    "X_test = prepare_X(df_test)\n",
    "y_pred = w_0 + X_test.dot(w)\n",
    "print('test:', rmse(y_test, y_pred))"
   ]
  },
  {
   "cell_type": "markdown",
   "id": "a3a53e88",
   "metadata": {},
   "source": [
    "Conclusion: using Regularization, we scored better than before."
   ]
  },
  {
   "cell_type": "markdown",
   "id": "30047228",
   "metadata": {},
   "source": [
    "## Using the model"
   ]
  },
  {
   "cell_type": "markdown",
   "id": "1046fd99",
   "metadata": {},
   "source": [
    "Suppose we have an ad of a car and we need to predict its price"
   ]
  },
  {
   "cell_type": "code",
   "execution_count": 32,
   "id": "0d628ad3",
   "metadata": {},
   "outputs": [],
   "source": [
    "ad = {\n",
    " 'city_mpg': 18,\n",
    " 'driven_wheels': 'all_wheel_drive',\n",
    " 'engine_cylinders': 6.0,\n",
    " 'engine_fuel_type': 'regular_unleaded',\n",
    " 'engine_hp': 268.0,\n",
    " 'highway_mpg': 25,\n",
    " 'make': 'toyota',\n",
    " 'market_category': 'crossover,performance',\n",
    " 'model': 'venza',\n",
    " 'number_of_doors': 4.0,\n",
    " 'popularity': 2031,\n",
    " 'transmission_type': 'automatic',\n",
    " 'vehicle_size': 'midsize',\n",
    " 'vehicle_style': 'wagon',\n",
    " 'year': 2013\n",
    "} \n"
   ]
  },
  {
   "cell_type": "code",
   "execution_count": 33,
   "id": "a9416ab9",
   "metadata": {},
   "outputs": [],
   "source": [
    "df_test = pd.DataFrame([ad])\n",
    "X_test = prepare_X(df_test)"
   ]
  },
  {
   "cell_type": "markdown",
   "id": "45bd6a42",
   "metadata": {},
   "source": [
    "we made a small dataframe df_test containing only one row with the ad values, then we got the matrix X_test"
   ]
  },
  {
   "cell_type": "code",
   "execution_count": 35,
   "id": "61f6ac8e",
   "metadata": {},
   "outputs": [],
   "source": [
    "y_pred = w_0 + X_test.dot(w)"
   ]
  },
  {
   "cell_type": "code",
   "execution_count": 36,
   "id": "6569b22d",
   "metadata": {},
   "outputs": [
    {
     "data": {
      "text/plain": [
       "array([28294.13593031])"
      ]
     },
     "execution_count": 36,
     "metadata": {},
     "output_type": "execute_result"
    }
   ],
   "source": [
    "suggestion = np.expm1(y_pred)\n",
    "suggestion"
   ]
  },
  {
   "cell_type": "markdown",
   "id": "e9c6fbae",
   "metadata": {},
   "source": [
    "The predicted price is 28,300 $"
   ]
  }
 ],
 "metadata": {
  "kernelspec": {
   "display_name": "Python 3",
   "language": "python",
   "name": "python3"
  },
  "language_info": {
   "codemirror_mode": {
    "name": "ipython",
    "version": 3
   },
   "file_extension": ".py",
   "mimetype": "text/x-python",
   "name": "python",
   "nbconvert_exporter": "python",
   "pygments_lexer": "ipython3",
   "version": "3.8.20"
  }
 },
 "nbformat": 4,
 "nbformat_minor": 5
}
